{
 "cells": [
  {
   "cell_type": "code",
   "execution_count": 2,
   "metadata": {
    "collapsed": true
   },
   "outputs": [],
   "source": [
    "import tensorflow as tf\n",
    "from sklearn.model_selection import train_test_split, KFold\n",
    "from sklearn.preprocessing import StandardScaler\n",
    "from sklearn import metrics\n",
    "import pandas as pd\n",
    "import numpy as np"
   ]
  },
  {
   "cell_type": "code",
   "execution_count": 104,
   "metadata": {},
   "outputs": [
    {
     "data": {
      "text/html": [
       "<div>\n",
       "<style>\n",
       "    .dataframe thead tr:only-child th {\n",
       "        text-align: right;\n",
       "    }\n",
       "\n",
       "    .dataframe thead th {\n",
       "        text-align: left;\n",
       "    }\n",
       "\n",
       "    .dataframe tbody tr th {\n",
       "        vertical-align: top;\n",
       "    }\n",
       "</style>\n",
       "<table border=\"1\" class=\"dataframe\">\n",
       "  <thead>\n",
       "    <tr style=\"text-align: right;\">\n",
       "      <th></th>\n",
       "      <th>TV</th>\n",
       "      <th>Radio</th>\n",
       "      <th>Newspaper</th>\n",
       "      <th>Sales</th>\n",
       "    </tr>\n",
       "  </thead>\n",
       "  <tbody>\n",
       "    <tr>\n",
       "      <th>0</th>\n",
       "      <td>230.1</td>\n",
       "      <td>37.8</td>\n",
       "      <td>69.2</td>\n",
       "      <td>22.1</td>\n",
       "    </tr>\n",
       "    <tr>\n",
       "      <th>1</th>\n",
       "      <td>44.5</td>\n",
       "      <td>39.3</td>\n",
       "      <td>45.1</td>\n",
       "      <td>10.4</td>\n",
       "    </tr>\n",
       "    <tr>\n",
       "      <th>2</th>\n",
       "      <td>17.2</td>\n",
       "      <td>45.9</td>\n",
       "      <td>69.3</td>\n",
       "      <td>9.3</td>\n",
       "    </tr>\n",
       "    <tr>\n",
       "      <th>3</th>\n",
       "      <td>151.5</td>\n",
       "      <td>41.3</td>\n",
       "      <td>58.5</td>\n",
       "      <td>18.5</td>\n",
       "    </tr>\n",
       "    <tr>\n",
       "      <th>4</th>\n",
       "      <td>180.8</td>\n",
       "      <td>10.8</td>\n",
       "      <td>58.4</td>\n",
       "      <td>12.9</td>\n",
       "    </tr>\n",
       "  </tbody>\n",
       "</table>\n",
       "</div>"
      ],
      "text/plain": [
       "      TV  Radio  Newspaper  Sales\n",
       "0  230.1   37.8       69.2   22.1\n",
       "1   44.5   39.3       45.1   10.4\n",
       "2   17.2   45.9       69.3    9.3\n",
       "3  151.5   41.3       58.5   18.5\n",
       "4  180.8   10.8       58.4   12.9"
      ]
     },
     "execution_count": 104,
     "metadata": {},
     "output_type": "execute_result"
    }
   ],
   "source": [
    "data = pd.read_csv('Advertising (2).csv')\n",
    "data.columns\n",
    "data.drop(['Unnamed: 0'], axis=1, inplace=True)\n",
    "data.head()\n"
   ]
  },
  {
   "cell_type": "code",
   "execution_count": 115,
   "metadata": {},
   "outputs": [],
   "source": [
    "X_train, X_test, y_train, y_test = train_test_split(data[['TV','Radio','Newspaper']].values,data['Sales'].values)"
   ]
  },
  {
   "cell_type": "code",
   "execution_count": 116,
   "metadata": {},
   "outputs": [
    {
     "data": {
      "text/plain": [
       "(150, 3)"
      ]
     },
     "execution_count": 116,
     "metadata": {},
     "output_type": "execute_result"
    }
   ],
   "source": [
    "X_train.shape"
   ]
  },
  {
   "cell_type": "code",
   "execution_count": 117,
   "metadata": {},
   "outputs": [],
   "source": [
    "ss = StandardScaler()\n",
    "X_train = ss.fit_transform(X_train)\n",
    "X_test = ss.fit_transform(X_test)"
   ]
  },
  {
   "cell_type": "code",
   "execution_count": 118,
   "metadata": {},
   "outputs": [
    {
     "data": {
      "text/plain": [
       "array([ 22.1,  10.4,   9.3,  18.5,  12.9,   7.2,  11.8,  13.2,   4.8,\n",
       "        10.6,   8.6,  17.4,   9.2,   9.7,  19. ,  22.4,  12.5,  24.4,\n",
       "        11.3,  14.6,  18. ,  12.5,   5.6,  15.5,   9.7,  12. ,  15. ,\n",
       "        15.9,  18.9,  10.5,  21.4,  11.9,   9.6,  17.4,   9.5,  12.8,\n",
       "        25.4,  14.7,  10.1,  21.5,  16.6,  17.1,  20.7,  12.9,   8.5,\n",
       "        14.9,  10.6,  23.2,  14.8,   9.7,  11.4,  10.7,  22.6,  21.2,\n",
       "        20.2,  23.7,   5.5,  13.2,  23.8,  18.4,   8.1,  24.2,  15.7,\n",
       "        14. ,  18. ,   9.3,   9.5,  13.4,  18.9,  22.3,  18.3,  12.4,\n",
       "         8.8,  11. ,  17. ,   8.7,   6.9,  14.2,   5.3,  11. ,  11.8,\n",
       "        12.3,  11.3,  13.6,  21.7,  15.2,  12. ,  16. ,  12.9,  16.7,\n",
       "        11.2,   7.3,  19.4,  22.2,  11.5,  16.9,  11.7,  15.5,  25.4,\n",
       "        17.2,  11.7,  23.8,  14.8,  14.7,  20.7,  19.2,   7.2,   8.7,\n",
       "         5.3,  19.8,  13.4,  21.8,  14.1,  15.9,  14.6,  12.6,  12.2,\n",
       "         9.4,  15.9,   6.6,  15.5,   7. ,  11.6,  15.2,  19.7,  10.6,\n",
       "         6.6,   8.8,  24.7,   9.7,   1.6,  12.7,   5.7,  19.6,  10.8,\n",
       "        11.6,   9.5,  20.8,   9.6,  20.7,  10.9,  19.2,  20.1,  10.4,\n",
       "        11.4,  10.3,  13.2,  25.4,  10.9,  10.1,  16.1,  11.6,  16.6,\n",
       "        19. ,  15.6,   3.2,  15.3,  10.1,   7.3,  12.9,  14.4,  13.3,\n",
       "        14.9,  18. ,  11.9,  11.9,   8. ,  12.2,  17.1,  15. ,   8.4,\n",
       "        14.5,   7.6,  11.7,  11.5,  27. ,  20.2,  11.7,  11.8,  12.6,\n",
       "        10.5,  12.2,   8.7,  26.2,  17.6,  22.6,  10.3,  17.3,  15.9,\n",
       "         6.7,  10.8,   9.9,   5.9,  19.6,  17.3,   7.6,   9.7,  12.8,\n",
       "        25.5,  13.4])"
      ]
     },
     "execution_count": 118,
     "metadata": {},
     "output_type": "execute_result"
    }
   ],
   "source": [
    "data['Sales'].values"
   ]
  },
  {
   "cell_type": "code",
   "execution_count": 119,
   "metadata": {},
   "outputs": [
    {
     "data": {
      "text/plain": [
       "(150,)"
      ]
     },
     "execution_count": 119,
     "metadata": {},
     "output_type": "execute_result"
    }
   ],
   "source": [
    "y_train.shape"
   ]
  },
  {
   "cell_type": "code",
   "execution_count": null,
   "metadata": {
    "collapsed": true
   },
   "outputs": [],
   "source": []
  },
  {
   "cell_type": "code",
   "execution_count": 120,
   "metadata": {},
   "outputs": [],
   "source": [
    "tf.reset_default_graph()\n",
    "X = tf.placeholder(dtype=tf.float32, shape=(None,3), name='X')\n",
    "y=tf.placeholder(dtype=tf.float32, shape=(None), name='y')\n",
    "\n",
    "h1=tf.layers.dense(X,3, name='hidden1',activation=tf.nn.relu)\n",
    "h2=tf.layers.dense(h1,2, name='hidden2',activation=tf.nn.relu)\n",
    "h3=tf.layers.dense(h2,6, name='hidden3',activation=tf.nn.relu)\n",
    "y_hat = tf.layers.dense(h3, 1, name='y_hat', activation=None)\n",
    "\n",
    "loss = tf.sqrt(tf.reduce_mean(tf.square(y_hat-y)))\n",
    "gd = tf.train.AdamOptimizer(.01)\n",
    "training_op = gd.minimize(loss)\n"
   ]
  },
  {
   "cell_type": "code",
   "execution_count": 129,
   "metadata": {},
   "outputs": [],
   "source": [
    "kf = KFold(45)\n",
    "batch_size_indices =[test for _, test in kf.split(X_train, y_train)]\n",
    "init = tf.global_variables_initializer()\n",
    "saver=tf.train.Saver()"
   ]
  },
  {
   "cell_type": "code",
   "execution_count": 130,
   "metadata": {},
   "outputs": [
    {
     "name": "stdout",
     "output_type": "stream",
     "text": [
      "epoch 0 train loss 11.5182 test loss 12.0879\n",
      "epoch 1 train loss 6.12347 test loss 6.13257\n",
      "epoch 2 train loss 5.40295 test loss 5.47792\n",
      "epoch 3 train loss 5.37041 test loss 5.41567\n",
      "epoch 4 train loss 5.40532 test loss 5.46165\n",
      "epoch 5 train loss 5.47238 test loss 5.53451\n",
      "epoch 6 train loss 5.50946 test loss 5.56228\n",
      "epoch 7 train loss 5.52896 test loss 5.58172\n",
      "epoch 8 train loss 5.5456 test loss 5.59599\n",
      "epoch 9 train loss 5.5493 test loss 5.60242\n",
      "epoch 10 train loss 5.55329 test loss 5.60708\n",
      "epoch 11 train loss 5.55322 test loss 5.60809\n",
      "epoch 12 train loss 5.55158 test loss 5.61285\n",
      "epoch 13 train loss 5.55622 test loss 5.61841\n",
      "epoch 14 train loss 5.5598 test loss 5.62447\n",
      "epoch 15 train loss 5.56614 test loss 5.63042\n",
      "epoch 16 train loss 5.56692 test loss 5.63441\n",
      "epoch 17 train loss 5.57381 test loss 5.64261\n",
      "epoch 18 train loss 5.57366 test loss 5.64697\n",
      "epoch 19 train loss 5.5784 test loss 5.65102\n",
      "epoch 20 train loss 5.57849 test loss 5.65308\n",
      "epoch 21 train loss 5.58457 test loss 5.65818\n",
      "epoch 22 train loss 5.58517 test loss 5.6597\n",
      "epoch 23 train loss 5.58909 test loss 5.66155\n",
      "epoch 24 train loss 5.58932 test loss 5.66163\n",
      "epoch 25 train loss 5.59381 test loss 5.66684\n",
      "epoch 26 train loss 5.59795 test loss 5.67103\n",
      "epoch 27 train loss 5.59228 test loss 5.66857\n",
      "epoch 28 train loss 5.59741 test loss 5.67229\n",
      "epoch 29 train loss 5.58886 test loss 5.66698\n",
      "epoch 30 train loss 5.59672 test loss 5.67463\n",
      "epoch 31 train loss 5.58688 test loss 5.66588\n",
      "epoch 32 train loss 5.59386 test loss 5.67322\n",
      "epoch 33 train loss 5.58806 test loss 5.67094\n",
      "epoch 34 train loss 5.59358 test loss 5.67587\n",
      "epoch 35 train loss 5.58681 test loss 5.67022\n",
      "epoch 36 train loss 5.59384 test loss 5.67554\n",
      "epoch 37 train loss 5.58633 test loss 5.67036\n",
      "epoch 38 train loss 5.58894 test loss 5.66978\n",
      "epoch 39 train loss 5.58361 test loss 5.66926\n",
      "epoch 40 train loss 5.59466 test loss 5.67422\n",
      "epoch 41 train loss 5.58762 test loss 5.66964\n",
      "epoch 42 train loss 5.60455 test loss 5.67807\n",
      "epoch 43 train loss 5.5878 test loss 5.66841\n",
      "epoch 44 train loss 5.58611 test loss 5.67182\n",
      "epoch 45 train loss 5.60407 test loss 5.68548\n",
      "epoch 46 train loss 5.58917 test loss 5.67393\n",
      "epoch 47 train loss 5.59381 test loss 5.68281\n",
      "epoch 48 train loss 5.6089 test loss 5.69335\n",
      "epoch 49 train loss 5.60178 test loss 5.68757\n",
      "epoch 50 train loss 5.59564 test loss 5.68483\n",
      "epoch 51 train loss 5.61003 test loss 5.69415\n",
      "epoch 52 train loss 5.59616 test loss 5.68486\n",
      "epoch 53 train loss 5.59723 test loss 5.688\n",
      "epoch 54 train loss 5.6038 test loss 5.69082\n",
      "epoch 55 train loss 5.59367 test loss 5.68262\n",
      "epoch 56 train loss 5.58996 test loss 5.6825\n",
      "epoch 57 train loss 5.60103 test loss 5.68816\n",
      "epoch 58 train loss 5.59227 test loss 5.68297\n",
      "epoch 59 train loss 5.5972 test loss 5.68454\n",
      "epoch 60 train loss 5.59279 test loss 5.68244\n",
      "epoch 61 train loss 5.59015 test loss 5.68129\n",
      "epoch 62 train loss 5.59992 test loss 5.68708\n",
      "epoch 63 train loss 5.59149 test loss 5.68207\n",
      "epoch 64 train loss 5.59845 test loss 5.68586\n",
      "epoch 65 train loss 5.58939 test loss 5.67775\n",
      "epoch 66 train loss 5.59117 test loss 5.67943\n",
      "epoch 67 train loss 5.59524 test loss 5.68259\n",
      "epoch 68 train loss 5.59035 test loss 5.67741\n",
      "epoch 69 train loss 5.58874 test loss 5.67751\n",
      "epoch 70 train loss 5.59585 test loss 5.68289\n",
      "epoch 71 train loss 5.59076 test loss 5.67692\n",
      "epoch 72 train loss 5.58908 test loss 5.67694\n",
      "epoch 73 train loss 5.58378 test loss 5.67425\n",
      "epoch 74 train loss 5.59182 test loss 5.67828\n",
      "epoch 75 train loss 5.58484 test loss 5.67536\n",
      "epoch 76 train loss 5.58968 test loss 5.67804\n",
      "epoch 77 train loss 5.59085 test loss 5.67703\n",
      "epoch 78 train loss 5.58373 test loss 5.67415\n",
      "epoch 79 train loss 5.58659 test loss 5.67429\n",
      "epoch 80 train loss 5.58544 test loss 5.6719\n",
      "epoch 81 train loss 5.58266 test loss 5.6719\n",
      "epoch 82 train loss 5.58099 test loss 5.67227\n",
      "epoch 83 train loss 5.58826 test loss 5.67639\n",
      "epoch 84 train loss 5.58564 test loss 5.67371\n",
      "epoch 85 train loss 5.58174 test loss 5.67068\n",
      "epoch 86 train loss 5.58361 test loss 5.67168\n",
      "epoch 87 train loss 5.58302 test loss 5.67062\n",
      "epoch 88 train loss 5.5767 test loss 5.66708\n",
      "epoch 89 train loss 5.5793 test loss 5.67006\n",
      "epoch 90 train loss 5.57441 test loss 5.66861\n",
      "epoch 91 train loss 5.57834 test loss 5.67306\n",
      "epoch 92 train loss 5.57491 test loss 5.67314\n",
      "epoch 93 train loss 5.5816 test loss 5.67767\n",
      "epoch 94 train loss 5.57962 test loss 5.67744\n",
      "epoch 95 train loss 5.58362 test loss 5.67987\n",
      "epoch 96 train loss 5.58231 test loss 5.67785\n",
      "epoch 97 train loss 5.58049 test loss 5.67814\n",
      "epoch 98 train loss 5.58323 test loss 5.68018\n",
      "epoch 99 train loss 5.58211 test loss 5.67836\n",
      "epoch 100 train loss 5.58151 test loss 5.68078\n",
      "epoch 101 train loss 5.58652 test loss 5.68341\n",
      "epoch 102 train loss 5.58549 test loss 5.68495\n",
      "epoch 103 train loss 5.58729 test loss 5.68459\n",
      "epoch 104 train loss 5.58497 test loss 5.68342\n",
      "epoch 105 train loss 5.58303 test loss 5.681\n",
      "epoch 106 train loss 5.58827 test loss 5.68906\n",
      "epoch 107 train loss 5.58438 test loss 5.68416\n",
      "epoch 108 train loss 5.58305 test loss 5.68272\n",
      "epoch 109 train loss 5.58747 test loss 5.68885\n",
      "epoch 110 train loss 5.58332 test loss 5.68669\n",
      "epoch 111 train loss 5.58259 test loss 5.68379\n",
      "epoch 112 train loss 5.58816 test loss 5.69183\n",
      "epoch 113 train loss 5.58144 test loss 5.68296\n",
      "epoch 114 train loss 5.58587 test loss 5.69031\n",
      "epoch 115 train loss 5.58396 test loss 5.6924\n",
      "epoch 116 train loss 5.58779 test loss 5.69486\n",
      "epoch 117 train loss 5.58227 test loss 5.69234\n",
      "epoch 118 train loss 5.58623 test loss 5.69571\n",
      "epoch 119 train loss 5.58305 test loss 5.69387\n",
      "epoch 120 train loss 5.59051 test loss 5.69774\n",
      "epoch 121 train loss 5.57834 test loss 5.69095\n",
      "epoch 122 train loss 5.58835 test loss 5.70303\n",
      "epoch 123 train loss 5.5872 test loss 5.69664\n",
      "epoch 124 train loss 5.58233 test loss 5.69778\n",
      "epoch 125 train loss 5.58661 test loss 5.70118\n",
      "epoch 126 train loss 5.58601 test loss 5.70283\n",
      "epoch 127 train loss 5.58132 test loss 5.69875\n",
      "epoch 128 train loss 5.58592 test loss 5.70283\n",
      "epoch 129 train loss 5.5847 test loss 5.70381\n",
      "epoch 130 train loss 5.58607 test loss 5.7027\n",
      "epoch 131 train loss 5.58444 test loss 5.70556\n",
      "epoch 132 train loss 5.58466 test loss 5.70453\n",
      "epoch 133 train loss 5.58315 test loss 5.70188\n",
      "epoch 134 train loss 5.585 test loss 5.70658\n",
      "epoch 135 train loss 5.58345 test loss 5.70555\n",
      "epoch 136 train loss 5.58467 test loss 5.70379\n",
      "epoch 137 train loss 5.58097 test loss 5.70347\n",
      "epoch 138 train loss 5.582 test loss 5.70373\n",
      "epoch 139 train loss 5.58457 test loss 5.70687\n",
      "epoch 140 train loss 5.58189 test loss 5.70374\n",
      "epoch 141 train loss 5.58312 test loss 5.70891\n",
      "epoch 142 train loss 5.58586 test loss 5.70761\n",
      "epoch 143 train loss 5.58087 test loss 5.70463\n",
      "epoch 144 train loss 5.58085 test loss 5.70074\n",
      "epoch 145 train loss 5.5795 test loss 5.70482\n",
      "epoch 146 train loss 5.58312 test loss 5.70836\n",
      "epoch 147 train loss 5.57788 test loss 5.70221\n",
      "epoch 148 train loss 5.58464 test loss 5.70985\n",
      "epoch 149 train loss 5.5777 test loss 5.70472\n",
      "epoch 150 train loss 5.58284 test loss 5.7072\n",
      "epoch 151 train loss 5.58107 test loss 5.70896\n",
      "epoch 152 train loss 5.57759 test loss 5.70282\n",
      "epoch 153 train loss 5.58312 test loss 5.71025\n",
      "epoch 154 train loss 5.57806 test loss 5.70454\n",
      "epoch 155 train loss 5.57932 test loss 5.70783\n",
      "epoch 156 train loss 5.58427 test loss 5.71195\n",
      "epoch 157 train loss 5.57866 test loss 5.70736\n",
      "epoch 158 train loss 5.57699 test loss 5.70615\n",
      "epoch 159 train loss 5.58207 test loss 5.71098\n",
      "epoch 160 train loss 5.57581 test loss 5.70552\n",
      "epoch 161 train loss 5.57818 test loss 5.70899\n",
      "epoch 162 train loss 5.57581 test loss 5.70506\n",
      "epoch 163 train loss 5.57521 test loss 5.70773\n",
      "epoch 164 train loss 5.58162 test loss 5.71129\n",
      "epoch 165 train loss 5.56538 test loss 5.69813\n",
      "epoch 166 train loss 5.57411 test loss 5.70879\n",
      "epoch 167 train loss 5.57369 test loss 5.70766\n",
      "epoch 168 train loss 5.5742 test loss 5.70636\n",
      "epoch 169 train loss 5.56793 test loss 5.7002\n",
      "epoch 170 train loss 5.56972 test loss 5.70429\n",
      "epoch 171 train loss 5.5658 test loss 5.69961\n",
      "epoch 172 train loss 5.56686 test loss 5.70094\n",
      "epoch 173 train loss 5.56286 test loss 5.6947\n",
      "epoch 174 train loss 5.56623 test loss 5.69853\n",
      "epoch 175 train loss 5.56107 test loss 5.69203\n",
      "epoch 176 train loss 5.56452 test loss 5.69569\n",
      "epoch 177 train loss 5.55645 test loss 5.68976\n",
      "epoch 178 train loss 5.56294 test loss 5.69572\n"
     ]
    },
    {
     "name": "stdout",
     "output_type": "stream",
     "text": [
      "epoch 179 train loss 5.5618 test loss 5.69396\n",
      "epoch 180 train loss 5.55576 test loss 5.69062\n",
      "epoch 181 train loss 5.56412 test loss 5.70303\n",
      "epoch 182 train loss 5.56685 test loss 5.6978\n",
      "epoch 183 train loss 5.56232 test loss 5.69301\n",
      "epoch 184 train loss 5.55622 test loss 5.69223\n",
      "epoch 185 train loss 5.55903 test loss 5.69974\n",
      "epoch 186 train loss 5.56771 test loss 5.70377\n",
      "epoch 187 train loss 5.56357 test loss 5.69401\n",
      "epoch 188 train loss 5.56321 test loss 5.69354\n",
      "epoch 189 train loss 5.56275 test loss 5.69471\n",
      "epoch 190 train loss 5.5555 test loss 5.69334\n",
      "epoch 191 train loss 5.56096 test loss 5.69879\n",
      "epoch 192 train loss 5.56613 test loss 5.6965\n",
      "epoch 193 train loss 5.55714 test loss 5.6943\n",
      "epoch 194 train loss 5.55746 test loss 5.70056\n",
      "epoch 195 train loss 5.5665 test loss 5.70324\n",
      "epoch 196 train loss 5.56411 test loss 5.69608\n",
      "epoch 197 train loss 5.55898 test loss 5.70217\n",
      "epoch 198 train loss 5.55953 test loss 5.69876\n",
      "epoch 199 train loss 5.56166 test loss 5.69662\n",
      "0.608456471834\n"
     ]
    }
   ],
   "source": [
    "\n",
    "with tf.Session() as sess:\n",
    "    sess.run(init)\n",
    "    for epoch in range(200):\n",
    "        for batch in batch_size_indices:\n",
    "            X_batch = X_train[batch]\n",
    "            y_batch = y_train[batch]\n",
    "            sess.run(training_op, feed_dict={X: X_batch, y:y_batch})\n",
    "        train_loss = sess.run(loss, feed_dict={X:X_train, y:y_train})\n",
    "        test_loss= sess.run(loss, feed_dict={X:X_test,y:y_test})\n",
    "        \n",
    "        print(\"epoch\", epoch, \"train loss\", train_loss,\"test loss\", test_loss)\n",
    "        \n",
    "    pred = sess.run(y_hat, feed_dict={X:X_test, y:y_test})\n",
    "print(metrics.r2_score(y_test,pred))"
   ]
  },
  {
   "cell_type": "code",
   "execution_count": null,
   "metadata": {},
   "outputs": [],
   "source": []
  },
  {
   "cell_type": "code",
   "execution_count": null,
   "metadata": {},
   "outputs": [],
   "source": []
  },
  {
   "cell_type": "code",
   "execution_count": 99,
   "metadata": {
    "collapsed": true
   },
   "outputs": [],
   "source": []
  },
  {
   "cell_type": "code",
   "execution_count": null,
   "metadata": {},
   "outputs": [],
   "source": []
  },
  {
   "cell_type": "code",
   "execution_count": null,
   "metadata": {},
   "outputs": [],
   "source": []
  },
  {
   "cell_type": "code",
   "execution_count": null,
   "metadata": {
    "collapsed": true
   },
   "outputs": [],
   "source": []
  }
 ],
 "metadata": {
  "kernelspec": {
   "display_name": "Python 3",
   "language": "python",
   "name": "python3"
  },
  "language_info": {
   "codemirror_mode": {
    "name": "ipython",
    "version": 3
   },
   "file_extension": ".py",
   "mimetype": "text/x-python",
   "name": "python",
   "nbconvert_exporter": "python",
   "pygments_lexer": "ipython3",
   "version": "3.5.4"
  }
 },
 "nbformat": 4,
 "nbformat_minor": 2
}
