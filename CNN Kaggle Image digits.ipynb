{
 "cells": [
  {
   "cell_type": "code",
   "execution_count": 53,
   "metadata": {},
   "outputs": [],
   "source": [
    "import pandas as pd\n",
    "from sklearn.model_selection import train_test_split\n",
    "from keras.utils import np_utils\n",
    "from keras.models import Sequential\n",
    "from keras.layers import Dense, Dropout, Input, Conv2D, MaxPool2D, Flatten\n"
   ]
  },
  {
   "cell_type": "code",
   "execution_count": 25,
   "metadata": {},
   "outputs": [
    {
     "data": {
      "text/html": [
       "<div>\n",
       "<style>\n",
       "    .dataframe thead tr:only-child th {\n",
       "        text-align: right;\n",
       "    }\n",
       "\n",
       "    .dataframe thead th {\n",
       "        text-align: left;\n",
       "    }\n",
       "\n",
       "    .dataframe tbody tr th {\n",
       "        vertical-align: top;\n",
       "    }\n",
       "</style>\n",
       "<table border=\"1\" class=\"dataframe\">\n",
       "  <thead>\n",
       "    <tr style=\"text-align: right;\">\n",
       "      <th></th>\n",
       "      <th>label</th>\n",
       "      <th>pixel0</th>\n",
       "      <th>pixel1</th>\n",
       "      <th>pixel2</th>\n",
       "      <th>pixel3</th>\n",
       "      <th>pixel4</th>\n",
       "      <th>pixel5</th>\n",
       "      <th>pixel6</th>\n",
       "      <th>pixel7</th>\n",
       "      <th>pixel8</th>\n",
       "      <th>...</th>\n",
       "      <th>pixel774</th>\n",
       "      <th>pixel775</th>\n",
       "      <th>pixel776</th>\n",
       "      <th>pixel777</th>\n",
       "      <th>pixel778</th>\n",
       "      <th>pixel779</th>\n",
       "      <th>pixel780</th>\n",
       "      <th>pixel781</th>\n",
       "      <th>pixel782</th>\n",
       "      <th>pixel783</th>\n",
       "    </tr>\n",
       "  </thead>\n",
       "  <tbody>\n",
       "    <tr>\n",
       "      <th>0</th>\n",
       "      <td>1</td>\n",
       "      <td>0</td>\n",
       "      <td>0</td>\n",
       "      <td>0</td>\n",
       "      <td>0</td>\n",
       "      <td>0</td>\n",
       "      <td>0</td>\n",
       "      <td>0</td>\n",
       "      <td>0</td>\n",
       "      <td>0</td>\n",
       "      <td>...</td>\n",
       "      <td>0</td>\n",
       "      <td>0</td>\n",
       "      <td>0</td>\n",
       "      <td>0</td>\n",
       "      <td>0</td>\n",
       "      <td>0</td>\n",
       "      <td>0</td>\n",
       "      <td>0</td>\n",
       "      <td>0</td>\n",
       "      <td>0</td>\n",
       "    </tr>\n",
       "    <tr>\n",
       "      <th>1</th>\n",
       "      <td>0</td>\n",
       "      <td>0</td>\n",
       "      <td>0</td>\n",
       "      <td>0</td>\n",
       "      <td>0</td>\n",
       "      <td>0</td>\n",
       "      <td>0</td>\n",
       "      <td>0</td>\n",
       "      <td>0</td>\n",
       "      <td>0</td>\n",
       "      <td>...</td>\n",
       "      <td>0</td>\n",
       "      <td>0</td>\n",
       "      <td>0</td>\n",
       "      <td>0</td>\n",
       "      <td>0</td>\n",
       "      <td>0</td>\n",
       "      <td>0</td>\n",
       "      <td>0</td>\n",
       "      <td>0</td>\n",
       "      <td>0</td>\n",
       "    </tr>\n",
       "    <tr>\n",
       "      <th>2</th>\n",
       "      <td>1</td>\n",
       "      <td>0</td>\n",
       "      <td>0</td>\n",
       "      <td>0</td>\n",
       "      <td>0</td>\n",
       "      <td>0</td>\n",
       "      <td>0</td>\n",
       "      <td>0</td>\n",
       "      <td>0</td>\n",
       "      <td>0</td>\n",
       "      <td>...</td>\n",
       "      <td>0</td>\n",
       "      <td>0</td>\n",
       "      <td>0</td>\n",
       "      <td>0</td>\n",
       "      <td>0</td>\n",
       "      <td>0</td>\n",
       "      <td>0</td>\n",
       "      <td>0</td>\n",
       "      <td>0</td>\n",
       "      <td>0</td>\n",
       "    </tr>\n",
       "    <tr>\n",
       "      <th>3</th>\n",
       "      <td>4</td>\n",
       "      <td>0</td>\n",
       "      <td>0</td>\n",
       "      <td>0</td>\n",
       "      <td>0</td>\n",
       "      <td>0</td>\n",
       "      <td>0</td>\n",
       "      <td>0</td>\n",
       "      <td>0</td>\n",
       "      <td>0</td>\n",
       "      <td>...</td>\n",
       "      <td>0</td>\n",
       "      <td>0</td>\n",
       "      <td>0</td>\n",
       "      <td>0</td>\n",
       "      <td>0</td>\n",
       "      <td>0</td>\n",
       "      <td>0</td>\n",
       "      <td>0</td>\n",
       "      <td>0</td>\n",
       "      <td>0</td>\n",
       "    </tr>\n",
       "    <tr>\n",
       "      <th>4</th>\n",
       "      <td>0</td>\n",
       "      <td>0</td>\n",
       "      <td>0</td>\n",
       "      <td>0</td>\n",
       "      <td>0</td>\n",
       "      <td>0</td>\n",
       "      <td>0</td>\n",
       "      <td>0</td>\n",
       "      <td>0</td>\n",
       "      <td>0</td>\n",
       "      <td>...</td>\n",
       "      <td>0</td>\n",
       "      <td>0</td>\n",
       "      <td>0</td>\n",
       "      <td>0</td>\n",
       "      <td>0</td>\n",
       "      <td>0</td>\n",
       "      <td>0</td>\n",
       "      <td>0</td>\n",
       "      <td>0</td>\n",
       "      <td>0</td>\n",
       "    </tr>\n",
       "  </tbody>\n",
       "</table>\n",
       "<p>5 rows × 785 columns</p>\n",
       "</div>"
      ],
      "text/plain": [
       "   label  pixel0  pixel1  pixel2  pixel3  pixel4  pixel5  pixel6  pixel7  \\\n",
       "0      1       0       0       0       0       0       0       0       0   \n",
       "1      0       0       0       0       0       0       0       0       0   \n",
       "2      1       0       0       0       0       0       0       0       0   \n",
       "3      4       0       0       0       0       0       0       0       0   \n",
       "4      0       0       0       0       0       0       0       0       0   \n",
       "\n",
       "   pixel8    ...     pixel774  pixel775  pixel776  pixel777  pixel778  \\\n",
       "0       0    ...            0         0         0         0         0   \n",
       "1       0    ...            0         0         0         0         0   \n",
       "2       0    ...            0         0         0         0         0   \n",
       "3       0    ...            0         0         0         0         0   \n",
       "4       0    ...            0         0         0         0         0   \n",
       "\n",
       "   pixel779  pixel780  pixel781  pixel782  pixel783  \n",
       "0         0         0         0         0         0  \n",
       "1         0         0         0         0         0  \n",
       "2         0         0         0         0         0  \n",
       "3         0         0         0         0         0  \n",
       "4         0         0         0         0         0  \n",
       "\n",
       "[5 rows x 785 columns]"
      ]
     },
     "execution_count": 25,
     "metadata": {},
     "output_type": "execute_result"
    }
   ],
   "source": [
    "train =  pd.read_csv(\"train.csv\")\n",
    "test = pd.read_csv(\"test.csv\")\n",
    "train.head()"
   ]
  },
  {
   "cell_type": "code",
   "execution_count": 26,
   "metadata": {},
   "outputs": [],
   "source": [
    "X_test = test.values\n",
    "X_test = X_test / 255"
   ]
  },
  {
   "cell_type": "code",
   "execution_count": 27,
   "metadata": {},
   "outputs": [],
   "source": [
    "X=train[train.columns[1:]]\n",
    "X = X/255\n",
    "y=train[\"label\"]\n",
    "y=np_utils.to_categorical(y)"
   ]
  },
  {
   "cell_type": "code",
   "execution_count": 28,
   "metadata": {},
   "outputs": [],
   "source": [
    "X_train, X_val, y_train, y_val = train_test_split(X.values,y, random_state=3)"
   ]
  },
  {
   "cell_type": "code",
   "execution_count": 41,
   "metadata": {},
   "outputs": [],
   "source": [
    "ff = Sequential()\n",
    "ff.add(Dense(X_train.shape[1], input_dim= X_train.shape[1], activation='relu'))\n",
    "ff.add(Dropout(.5))\n",
    "ff.add(Dense(X_train.shape[1],activation='relu'))\n",
    "ff.add(Dropout(.3))\n",
    "ff.add(Dense(10, activation=\"softmax\"))\n",
    "ff.compile(loss='categorical_crossentropy',optimizer='adam', metrics=[\"accuracy\"])"
   ]
  },
  {
   "cell_type": "code",
   "execution_count": 42,
   "metadata": {},
   "outputs": [
    {
     "name": "stdout",
     "output_type": "stream",
     "text": [
      "Train on 31500 samples, validate on 10500 samples\n",
      "Epoch 1/20\n",
      "31500/31500 [==============================] - 6s - loss: 0.3959 - acc: 0.8804 - val_loss: 0.1753 - val_acc: 0.9469\n",
      "Epoch 2/20\n",
      "31500/31500 [==============================] - 7s - loss: 0.1696 - acc: 0.9476 - val_loss: 0.1257 - val_acc: 0.9622\n",
      "Epoch 3/20\n",
      "31500/31500 [==============================] - 7s - loss: 0.1243 - acc: 0.9608 - val_loss: 0.0998 - val_acc: 0.9673\n",
      "Epoch 4/20\n",
      "31500/31500 [==============================] - 7s - loss: 0.1020 - acc: 0.9686 - val_loss: 0.0993 - val_acc: 0.9670\n",
      "Epoch 5/20\n",
      "31500/31500 [==============================] - 7s - loss: 0.0848 - acc: 0.9727 - val_loss: 0.0905 - val_acc: 0.9729\n",
      "Epoch 6/20\n",
      "31500/31500 [==============================] - 7s - loss: 0.0735 - acc: 0.9766 - val_loss: 0.0876 - val_acc: 0.9709\n",
      "Epoch 7/20\n",
      "31500/31500 [==============================] - 7s - loss: 0.0641 - acc: 0.9793 - val_loss: 0.0867 - val_acc: 0.9735\n",
      "Epoch 8/20\n",
      "31500/31500 [==============================] - 7s - loss: 0.0610 - acc: 0.9794 - val_loss: 0.0781 - val_acc: 0.9761\n",
      "Epoch 9/20\n",
      "31500/31500 [==============================] - 7s - loss: 0.0511 - acc: 0.9833 - val_loss: 0.0829 - val_acc: 0.9755\n",
      "Epoch 10/20\n",
      "31500/31500 [==============================] - 7s - loss: 0.0481 - acc: 0.9842 - val_loss: 0.0966 - val_acc: 0.9716\n",
      "Epoch 11/20\n",
      "31500/31500 [==============================] - 7s - loss: 0.0486 - acc: 0.9836 - val_loss: 0.0866 - val_acc: 0.9745\n",
      "Epoch 12/20\n",
      "31500/31500 [==============================] - 7s - loss: 0.0401 - acc: 0.9862 - val_loss: 0.0831 - val_acc: 0.9766\n",
      "Epoch 13/20\n",
      "31500/31500 [==============================] - 7s - loss: 0.0384 - acc: 0.9880 - val_loss: 0.0828 - val_acc: 0.9777\n",
      "Epoch 14/20\n",
      "31500/31500 [==============================] - 7s - loss: 0.0392 - acc: 0.9875 - val_loss: 0.0899 - val_acc: 0.9764\n",
      "Epoch 15/20\n",
      "31500/31500 [==============================] - 8s - loss: 0.0354 - acc: 0.9881 - val_loss: 0.0805 - val_acc: 0.9792\n",
      "Epoch 16/20\n",
      "31500/31500 [==============================] - 7s - loss: 0.0377 - acc: 0.9871 - val_loss: 0.0871 - val_acc: 0.9773\n",
      "Epoch 17/20\n",
      "31500/31500 [==============================] - 7s - loss: 0.0313 - acc: 0.9893 - val_loss: 0.0846 - val_acc: 0.9782\n",
      "Epoch 18/20\n",
      "31500/31500 [==============================] - 7s - loss: 0.0290 - acc: 0.9904 - val_loss: 0.0879 - val_acc: 0.9780\n",
      "Epoch 19/20\n",
      "31500/31500 [==============================] - 7s - loss: 0.0250 - acc: 0.9910 - val_loss: 0.0981 - val_acc: 0.9770\n",
      "Epoch 20/20\n",
      "31500/31500 [==============================] - 7s - loss: 0.0268 - acc: 0.9913 - val_loss: 0.0886 - val_acc: 0.9777\n"
     ]
    },
    {
     "data": {
      "text/plain": [
       "<keras.callbacks.History at 0x2351d1e46d8>"
      ]
     },
     "execution_count": 42,
     "metadata": {},
     "output_type": "execute_result"
    }
   ],
   "source": [
    "ff.fit(X_train, y_train, epochs = 20, batch_size=200, validation_data=(X_val, y_val))"
   ]
  },
  {
   "cell_type": "code",
   "execution_count": 43,
   "metadata": {},
   "outputs": [
    {
     "name": "stdout",
     "output_type": "stream",
     "text": [
      "27840/28000 [============================>.] - ETA: 0s"
     ]
    }
   ],
   "source": [
    "pred = cnn.predict_classes(X_test)"
   ]
  },
  {
   "cell_type": "code",
   "execution_count": 44,
   "metadata": {},
   "outputs": [
    {
     "data": {
      "text/html": [
       "<div>\n",
       "<style>\n",
       "    .dataframe thead tr:only-child th {\n",
       "        text-align: right;\n",
       "    }\n",
       "\n",
       "    .dataframe thead th {\n",
       "        text-align: left;\n",
       "    }\n",
       "\n",
       "    .dataframe tbody tr th {\n",
       "        vertical-align: top;\n",
       "    }\n",
       "</style>\n",
       "<table border=\"1\" class=\"dataframe\">\n",
       "  <thead>\n",
       "    <tr style=\"text-align: right;\">\n",
       "      <th></th>\n",
       "      <th>ImageId</th>\n",
       "      <th>Label</th>\n",
       "    </tr>\n",
       "  </thead>\n",
       "  <tbody>\n",
       "    <tr>\n",
       "      <th>0</th>\n",
       "      <td>1</td>\n",
       "      <td>2</td>\n",
       "    </tr>\n",
       "    <tr>\n",
       "      <th>1</th>\n",
       "      <td>2</td>\n",
       "      <td>0</td>\n",
       "    </tr>\n",
       "    <tr>\n",
       "      <th>2</th>\n",
       "      <td>3</td>\n",
       "      <td>9</td>\n",
       "    </tr>\n",
       "    <tr>\n",
       "      <th>3</th>\n",
       "      <td>4</td>\n",
       "      <td>9</td>\n",
       "    </tr>\n",
       "    <tr>\n",
       "      <th>4</th>\n",
       "      <td>5</td>\n",
       "      <td>3</td>\n",
       "    </tr>\n",
       "  </tbody>\n",
       "</table>\n",
       "</div>"
      ],
      "text/plain": [
       "   ImageId  Label\n",
       "0        1      2\n",
       "1        2      0\n",
       "2        3      9\n",
       "3        4      9\n",
       "4        5      3"
      ]
     },
     "execution_count": 44,
     "metadata": {},
     "output_type": "execute_result"
    }
   ],
   "source": [
    "subm = pd.DataFrame()\n",
    "subm[\"ImageId\"]=range(1, len(pred)+1)\n",
    "subm[\"Label\"]=pred\n",
    "subm.to_csv(\"submit.csv\", index=False)\n",
    "subm.head()"
   ]
  },
  {
   "cell_type": "code",
   "execution_count": 48,
   "metadata": {},
   "outputs": [],
   "source": [
    "X_train = X_train.reshape(X_train.shape[0],28,28,1)\n",
    "X_test = X_test.reshape(X_test.shape[0],28,28,1)\n",
    "X_val = X_val.reshape(X_val.shape[0],28,28,1)"
   ]
  },
  {
   "cell_type": "code",
   "execution_count": 67,
   "metadata": {},
   "outputs": [],
   "source": [
    "cnn = Sequential()\n",
    "cnn.add(Conv2D(15, (4,4), input_shape =(28,28,1), activation='relu'))\n",
    "cnn.add(MaxPool2D((2,2)))\n",
    "cnn.add(Conv2D(30,(5,5),activation='relu'))\n",
    "cnn.add(Dropout(.5))\n",
    "cnn.add(MaxPool2D(2,2))\n",
    "cnn.add(Flatten())\n",
    "cnn.add(Dense(100,activation='relu'))\n",
    "cnn.add(Dropout(.7))\n",
    "cnn.add(Dense(10,activation='softmax'))\n",
    "cnn.compile(loss='categorical_crossentropy', optimizer='adam', metrics=['accuracy'])"
   ]
  },
  {
   "cell_type": "code",
   "execution_count": 68,
   "metadata": {},
   "outputs": [
    {
     "name": "stdout",
     "output_type": "stream",
     "text": [
      "Train on 31500 samples, validate on 10500 samples\n",
      "Epoch 1/20\n",
      "31500/31500 [==============================] - 15s - loss: 0.9106 - acc: 0.6996 - val_loss: 0.2523 - val_acc: 0.9465\n",
      "Epoch 2/20\n",
      "31500/31500 [==============================] - 15s - loss: 0.3412 - acc: 0.8967 - val_loss: 0.1527 - val_acc: 0.9656\n",
      "Epoch 3/20\n",
      "31500/31500 [==============================] - 15s - loss: 0.2437 - acc: 0.9283 - val_loss: 0.1210 - val_acc: 0.9716\n",
      "Epoch 4/20\n",
      "31500/31500 [==============================] - 15s - loss: 0.2023 - acc: 0.9413 - val_loss: 0.0915 - val_acc: 0.9750\n",
      "Epoch 5/20\n",
      "31500/31500 [==============================] - 15s - loss: 0.1697 - acc: 0.9501 - val_loss: 0.0826 - val_acc: 0.9784\n",
      "Epoch 6/20\n",
      "31500/31500 [==============================] - 15s - loss: 0.1513 - acc: 0.9562 - val_loss: 0.0701 - val_acc: 0.9802\n",
      "Epoch 7/20\n",
      "31500/31500 [==============================] - 15s - loss: 0.1347 - acc: 0.9599 - val_loss: 0.0694 - val_acc: 0.9805\n",
      "Epoch 8/20\n",
      "31500/31500 [==============================] - 15s - loss: 0.1270 - acc: 0.9626 - val_loss: 0.0607 - val_acc: 0.9827\n",
      "Epoch 9/20\n",
      "31500/31500 [==============================] - 15s - loss: 0.1150 - acc: 0.9673 - val_loss: 0.0542 - val_acc: 0.9843\n",
      "Epoch 10/20\n",
      "31500/31500 [==============================] - 15s - loss: 0.1122 - acc: 0.9670 - val_loss: 0.0534 - val_acc: 0.9850\n",
      "Epoch 11/20\n",
      "31500/31500 [==============================] - 15s - loss: 0.1025 - acc: 0.9702 - val_loss: 0.0484 - val_acc: 0.9856\n",
      "Epoch 12/20\n",
      "31500/31500 [==============================] - 15s - loss: 0.0972 - acc: 0.9720 - val_loss: 0.0474 - val_acc: 0.9859\n",
      "Epoch 13/20\n",
      "31500/31500 [==============================] - 15s - loss: 0.0923 - acc: 0.9740 - val_loss: 0.0513 - val_acc: 0.9847\n",
      "Epoch 14/20\n",
      "31500/31500 [==============================] - 15s - loss: 0.0886 - acc: 0.9747 - val_loss: 0.0441 - val_acc: 0.9869\n",
      "Epoch 15/20\n",
      "31500/31500 [==============================] - 15s - loss: 0.0853 - acc: 0.9751 - val_loss: 0.0420 - val_acc: 0.9874\n",
      "Epoch 16/20\n",
      "31500/31500 [==============================] - 15s - loss: 0.0813 - acc: 0.9758 - val_loss: 0.0414 - val_acc: 0.9865\n",
      "Epoch 17/20\n",
      "31500/31500 [==============================] - 15s - loss: 0.0771 - acc: 0.9775 - val_loss: 0.0408 - val_acc: 0.9873\n",
      "Epoch 18/20\n",
      "31500/31500 [==============================] - 15s - loss: 0.0735 - acc: 0.9786 - val_loss: 0.0412 - val_acc: 0.9870\n",
      "Epoch 19/20\n",
      "31500/31500 [==============================] - 15s - loss: 0.0753 - acc: 0.9774 - val_loss: 0.0403 - val_acc: 0.9878\n",
      "Epoch 20/20\n",
      "31500/31500 [==============================] - 16s - loss: 0.0722 - acc: 0.9787 - val_loss: 0.0391 - val_acc: 0.9872\n"
     ]
    },
    {
     "data": {
      "text/plain": [
       "<keras.callbacks.History at 0x2351102e048>"
      ]
     },
     "execution_count": 68,
     "metadata": {},
     "output_type": "execute_result"
    }
   ],
   "source": [
    "cnn.fit(X_train, y_train, epochs = 20, batch_size=200, validation_data=(X_val, y_val))"
   ]
  },
  {
   "cell_type": "code",
   "execution_count": 70,
   "metadata": {},
   "outputs": [
    {
     "name": "stdout",
     "output_type": "stream",
     "text": [
      "27968/28000 [============================>.] - ETA: 0s"
     ]
    }
   ],
   "source": [
    "pred = cnn.predict_classes(X_test)"
   ]
  },
  {
   "cell_type": "code",
   "execution_count": 71,
   "metadata": {},
   "outputs": [
    {
     "data": {
      "text/html": [
       "<div>\n",
       "<style>\n",
       "    .dataframe thead tr:only-child th {\n",
       "        text-align: right;\n",
       "    }\n",
       "\n",
       "    .dataframe thead th {\n",
       "        text-align: left;\n",
       "    }\n",
       "\n",
       "    .dataframe tbody tr th {\n",
       "        vertical-align: top;\n",
       "    }\n",
       "</style>\n",
       "<table border=\"1\" class=\"dataframe\">\n",
       "  <thead>\n",
       "    <tr style=\"text-align: right;\">\n",
       "      <th></th>\n",
       "      <th>ImageId</th>\n",
       "      <th>Label</th>\n",
       "    </tr>\n",
       "  </thead>\n",
       "  <tbody>\n",
       "    <tr>\n",
       "      <th>0</th>\n",
       "      <td>1</td>\n",
       "      <td>2</td>\n",
       "    </tr>\n",
       "    <tr>\n",
       "      <th>1</th>\n",
       "      <td>2</td>\n",
       "      <td>0</td>\n",
       "    </tr>\n",
       "    <tr>\n",
       "      <th>2</th>\n",
       "      <td>3</td>\n",
       "      <td>9</td>\n",
       "    </tr>\n",
       "    <tr>\n",
       "      <th>3</th>\n",
       "      <td>4</td>\n",
       "      <td>9</td>\n",
       "    </tr>\n",
       "    <tr>\n",
       "      <th>4</th>\n",
       "      <td>5</td>\n",
       "      <td>3</td>\n",
       "    </tr>\n",
       "  </tbody>\n",
       "</table>\n",
       "</div>"
      ],
      "text/plain": [
       "   ImageId  Label\n",
       "0        1      2\n",
       "1        2      0\n",
       "2        3      9\n",
       "3        4      9\n",
       "4        5      3"
      ]
     },
     "execution_count": 71,
     "metadata": {},
     "output_type": "execute_result"
    }
   ],
   "source": [
    "submcnn = pd.DataFrame()\n",
    "submcnn[\"ImageId\"]=range(1, len(pred)+1)\n",
    "submcnn[\"Label\"]=pred\n",
    "submcnn.to_csv(\"submitcnn.csv\", index=False)\n",
    "subm.head()"
   ]
  },
  {
   "cell_type": "code",
   "execution_count": 72,
   "metadata": {},
   "outputs": [
    {
     "name": "stdout",
     "output_type": "stream",
     "text": [
      "_________________________________________________________________\n",
      "Layer (type)                 Output Shape              Param #   \n",
      "=================================================================\n",
      "conv2d_12 (Conv2D)           (None, 25, 25, 15)        255       \n",
      "_________________________________________________________________\n",
      "max_pooling2d_10 (MaxPooling (None, 12, 12, 15)        0         \n",
      "_________________________________________________________________\n",
      "conv2d_13 (Conv2D)           (None, 8, 8, 30)          11280     \n",
      "_________________________________________________________________\n",
      "dropout_5 (Dropout)          (None, 8, 8, 30)          0         \n",
      "_________________________________________________________________\n",
      "max_pooling2d_11 (MaxPooling (None, 4, 4, 30)          0         \n",
      "_________________________________________________________________\n",
      "flatten_5 (Flatten)          (None, 480)               0         \n",
      "_________________________________________________________________\n",
      "dense_20 (Dense)             (None, 100)               48100     \n",
      "_________________________________________________________________\n",
      "dropout_6 (Dropout)          (None, 100)               0         \n",
      "_________________________________________________________________\n",
      "dense_21 (Dense)             (None, 10)                1010      \n",
      "=================================================================\n",
      "Total params: 60,645\n",
      "Trainable params: 60,645\n",
      "Non-trainable params: 0\n",
      "_________________________________________________________________\n"
     ]
    }
   ],
   "source": [
    "cnn.summary()"
   ]
  },
  {
   "cell_type": "code",
   "execution_count": null,
   "metadata": {
    "collapsed": true
   },
   "outputs": [],
   "source": []
  }
 ],
 "metadata": {
  "kernelspec": {
   "display_name": "Python 3",
   "language": "python",
   "name": "python3"
  },
  "language_info": {
   "codemirror_mode": {
    "name": "ipython",
    "version": 3
   },
   "file_extension": ".py",
   "mimetype": "text/x-python",
   "name": "python",
   "nbconvert_exporter": "python",
   "pygments_lexer": "ipython3",
   "version": "3.5.4"
  }
 },
 "nbformat": 4,
 "nbformat_minor": 2
}
