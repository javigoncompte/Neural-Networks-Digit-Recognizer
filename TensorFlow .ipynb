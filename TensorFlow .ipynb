{
 "cells": [
  {
   "cell_type": "code",
   "execution_count": null,
   "metadata": {
    "collapsed": true
   },
   "outputs": [],
   "source": [
    "import tensorflow as tf\n",
    "from sklearn.datasets import load_boston\n",
    "from sklearn.model_selection import train_test_split, KFold\n",
    "from sklearn.preprocessing import StandardScaler\n",
    "from sklearn import metrics"
   ]
  },
  {
   "cell_type": "code",
   "execution_count": null,
   "metadata": {
    "collapsed": true
   },
   "outputs": [],
   "source": [
    "x = tf.Variable(3, name=\"x\")\n",
    "z = tf.Variable(2, name=\"z\")\n",
    "f = x * z + 2\n"
   ]
  },
  {
   "cell_type": "code",
   "execution_count": null,
   "metadata": {
    "collapsed": true
   },
   "outputs": [],
   "source": [
    "init = tf.global_variables_initializer()"
   ]
  },
  {
   "cell_type": "code",
   "execution_count": null,
   "metadata": {},
   "outputs": [],
   "source": [
    "with tf.Session() as sess:\n",
    "    sess.run(init)\n",
    "    result = f.eval()\n",
    "    print (result)"
   ]
  },
  {
   "cell_type": "code",
   "execution_count": null,
   "metadata": {
    "collapsed": true
   },
   "outputs": [],
   "source": [
    "#DNN"
   ]
  },
  {
   "cell_type": "code",
   "execution_count": null,
   "metadata": {},
   "outputs": [],
   "source": [
    "data = load_boston()\n",
    "X_train, X_test, y_train, y_test =  train_test_split(data.data, data.target)"
   ]
  },
  {
   "cell_type": "code",
   "execution_count": null,
   "metadata": {
    "collapsed": true
   },
   "outputs": [],
   "source": [
    "ss =  StandardScaler()\n",
    "X_train = ss.fit_transform(X_train)\n",
    "X_test =  ss.fit_transform(X_test)"
   ]
  },
  {
   "cell_type": "code",
   "execution_count": null,
   "metadata": {},
   "outputs": [],
   "source": [
    "X_train.shape"
   ]
  },
  {
   "cell_type": "code",
   "execution_count": null,
   "metadata": {
    "collapsed": true
   },
   "outputs": [],
   "source": [
    "tf.reset_default_graph()\n",
    "\n",
    "X = tf.placeholder(dtype=tf.float32, shape=(None,13), name='X')\n",
    "y = tf.placeholder(dtype=tf.float32, shape=(None), name='y')\n",
    "\n",
    "h1= tf.layers.dense(X, 13, name='hidden1', activation=tf.nn.relu)\n",
    "h2= tf.layers.dense(h1, 5, name='hidden2', activation=tf.nn.relu)\n",
    "y_hat = tf.layers.dense(h2, 1, name='y_hat',activation=None)\n",
    "\n",
    "loss = tf.sqrt(tf.reduce_mean(tf.square(y_hat - y)))\n",
    "\n",
    "gd = tf.train.AdamOptimizer(.01)\n",
    "traininig_op = gd.minimize(loss)"
   ]
  },
  {
   "cell_type": "code",
   "execution_count": null,
   "metadata": {},
   "outputs": [],
   "source": [
    "kf = KFold(5, random_state=3)\n",
    "batch_size_indeces = [test for _, test in kf.split(X_train,y_train)]\n",
    "\n",
    "init = tf.global_variables_initializer()\n",
    "saver = tf.train.Saver()\n",
    "\n",
    "with tf.Session() as sess:\n",
    "    sess.run(init)\n",
    "    for epoch in range(100):\n",
    "        for batch in batch_size_indeces:\n",
    "            X_batch = X_train[batch]\n",
    "            y_batch = y_train[batch]\n",
    "            sess.run(traininig_op, feed_dict={X: X_batch, y:y_batch})\n",
    "        train_loss = sess.run(loss,feed_dict={X:X_train, y:y_train})\n",
    "        test_loss = sess.run(loss,feed_dict={X:X_test, y:y_test})\n",
    "    \n",
    "\n",
    "        print(\"epoch\", epoch, 'train loss', train_loss,\"test loss\", test_loss)\n",
    "        if epoch % 10 == 10:\n",
    "            saver.save(sess, './housing.ckpt')\n",
    "    pred = sess.run(y_hat, feed_dict={X:X_test,y:y_test})\n",
    "print (metrics.r2_score(y_test, pred))\n",
    "            \n",
    "        \n",
    "    \n",
    "    "
   ]
  },
  {
   "cell_type": "code",
   "execution_count": null,
   "metadata": {},
   "outputs": [],
   "source": [
    "with tf.Session() as sess:\n",
    "    saver.restore(sess,'housing.ckpt')\n",
    "    pred=sess.run(y_hat, feed_dict={X:X_test, y:y_test})\n",
    "    print (pred[0])"
   ]
  },
  {
   "cell_type": "code",
   "execution_count": null,
   "metadata": {
    "collapsed": true
   },
   "outputs": [],
   "source": []
  }
 ],
 "metadata": {
  "kernelspec": {
   "display_name": "Python 3",
   "language": "python",
   "name": "python3"
  },
  "language_info": {
   "codemirror_mode": {
    "name": "ipython",
    "version": 3
   },
   "file_extension": ".py",
   "mimetype": "text/x-python",
   "name": "python",
   "nbconvert_exporter": "python",
   "pygments_lexer": "ipython3",
   "version": "3.5.4"
  }
 },
 "nbformat": 4,
 "nbformat_minor": 2
}
